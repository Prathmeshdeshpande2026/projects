{
  "nbformat": 4,
  "nbformat_minor": 0,
  "metadata": {
    "colab": {
      "provenance": []
    },
    "kernelspec": {
      "name": "python3",
      "display_name": "Python 3"
    },
    "language_info": {
      "name": "python"
    }
  },
  "cells": [
    {
      "cell_type": "code",
      "execution_count": 1,
      "metadata": {
        "id": "LuOQ-K4O6Z3n"
      },
      "outputs": [],
      "source": [
        "from collections import deque"
      ]
    },
    {
      "cell_type": "code",
      "source": [
        "def is_goal(state):\n",
        "    return state[0] == 2"
      ],
      "metadata": {
        "id": "_jFK-sq462jk"
      },
      "execution_count": 2,
      "outputs": []
    },
    {
      "cell_type": "code",
      "source": [
        "def get_possible_states(state):\n",
        "    a, b = state\n",
        "    possible = []\n",
        "    # Jug capacities\n",
        "    max_a, max_b = 4, 3\n",
        "\n",
        "    # Fill Jug A\n",
        "    possible.append((max_a, b))\n",
        "    # Fill Jug B\n",
        "    possible.append((a, max_b))\n",
        "    # Empty Jug A\n",
        "    possible.append((0, b))\n",
        "    # Empty Jug B\n",
        "    possible.append((a, 0))\n",
        "    # Pour A -> B\n",
        "    pour = min(a, max_b - b)\n",
        "    possible.append((a - pour, b + pour))\n",
        "    # Pour B -> A\n",
        "    pour = min(b, max_a - a)\n",
        "    possible.append((a + pour, b - pour))\n",
        "\n",
        "    return possible"
      ],
      "metadata": {
        "id": "YtBBnT7H7L4c"
      },
      "execution_count": 3,
      "outputs": []
    },
    {
      "cell_type": "code",
      "source": [
        "def bfs_water_jug(start):\n",
        "    visited = set()\n",
        "    queue = deque([(start, [start])])\n",
        "\n",
        "    while queue:\n",
        "        state, path = queue.popleft()\n",
        "\n",
        "        if is_goal(state):\n",
        "            return path\n",
        "\n",
        "        for next_state in get_possible_states(state):\n",
        "            if next_state not in visited:\n",
        "                visited.add(next_state)\n",
        "                queue.append((next_state, path + [next_state]))\n",
        "\n",
        "    return None\n"
      ],
      "metadata": {
        "id": "6VEJLDtz7OzM"
      },
      "execution_count": 4,
      "outputs": []
    },
    {
      "cell_type": "code",
      "source": [
        "solution = bfs_water_jug((0, 0))"
      ],
      "metadata": {
        "id": "niYYM4bJ7SGW"
      },
      "execution_count": 5,
      "outputs": []
    },
    {
      "cell_type": "code",
      "source": [
        "print(\"Steps to reach goal (2 liters in Jug A):\")\n",
        "for step in solution:\n",
        "    print(f\"Jug A: {step[0]}, Jug B: {step[1]}\")"
      ],
      "metadata": {
        "colab": {
          "base_uri": "https://localhost:8080/"
        },
        "id": "We1aSjbl7Ur8",
        "outputId": "58840305-a014-4dc9-976f-4c2dc50d5c46"
      },
      "execution_count": 6,
      "outputs": [
        {
          "output_type": "stream",
          "name": "stdout",
          "text": [
            "Steps to reach goal (2 liters in Jug A):\n",
            "Jug A: 0, Jug B: 0\n",
            "Jug A: 4, Jug B: 0\n",
            "Jug A: 1, Jug B: 3\n",
            "Jug A: 1, Jug B: 0\n",
            "Jug A: 0, Jug B: 1\n",
            "Jug A: 4, Jug B: 1\n",
            "Jug A: 2, Jug B: 3\n"
          ]
        }
      ]
    },
    {
      "cell_type": "code",
      "source": [
        "def towers_of_hanoi(n, source, target, auxiliary):\n",
        "    if n == 1:\n",
        "        print(f\"Move disk 1 from {source} to {target}\")\n",
        "        return\n",
        "    towers_of_hanoi(n - 1, source, auxiliary, target)\n",
        "    print(f\"Move disk {n} from {source} to {target}\")\n",
        "    towers_of_hanoi(n - 1, auxiliary, target, source)\n",
        "\n",
        "# Number of disks\n",
        "n = 3\n",
        "towers_of_hanoi(n, 'A', 'C', 'B')"
      ],
      "metadata": {
        "colab": {
          "base_uri": "https://localhost:8080/"
        },
        "id": "dmhNNY0N7Wrh",
        "outputId": "cae982aa-5acd-434d-fd9f-04e919412401"
      },
      "execution_count": 7,
      "outputs": [
        {
          "output_type": "stream",
          "name": "stdout",
          "text": [
            "Move disk 1 from A to C\n",
            "Move disk 2 from A to B\n",
            "Move disk 1 from C to B\n",
            "Move disk 3 from A to C\n",
            "Move disk 1 from B to A\n",
            "Move disk 2 from B to C\n",
            "Move disk 1 from A to C\n"
          ]
        }
      ]
    },
    {
      "cell_type": "code",
      "source": [],
      "metadata": {
        "id": "HrQUtXVi7fYw"
      },
      "execution_count": null,
      "outputs": []
    }
  ]
}