{
  "nbformat": 4,
  "nbformat_minor": 0,
  "metadata": {
    "colab": {
      "provenance": []
    },
    "kernelspec": {
      "name": "python3",
      "display_name": "Python 3"
    },
    "language_info": {
      "name": "python"
    }
  },
  "cells": [
    {
      "cell_type": "code",
      "execution_count": null,
      "metadata": {
        "id": "yApXUxSoBxpT"
      },
      "outputs": [],
      "source": [
        "# 5 Write a program for the Tic-Tac-Toe game."
      ]
    },
    {
      "cell_type": "code",
      "source": [
        "# Function to print the Tic-Tac-Toe board\n",
        "def print_board(board):\n",
        "    for row in board:\n",
        "        print(\" | \".join(row))\n",
        "        print(\"-\" * 5)"
      ],
      "metadata": {
        "id": "_FTGYu-CByfL"
      },
      "execution_count": 1,
      "outputs": []
    },
    {
      "cell_type": "code",
      "source": [
        "# Function to check if a player has won\n",
        "def check_winner(board, player):\n",
        "    # Check rows, columns, and diagonals\n",
        "    for i in range(3):\n",
        "        if all([cell == player for cell in board[i]]):  # Check row\n",
        "            return True\n",
        "        if all([board[j][i] == player for j in range(3)]):  # Check column\n",
        "            return True\n",
        "    if board[0][0] == player and board[1][1] == player and board[2][2] == player:  # Check diagonal\n",
        "        return True\n",
        "    if board[0][2] == player and board[1][1] == player and board[2][0] == player:  # Check opposite diagonal\n",
        "        return True\n",
        "    return False"
      ],
      "metadata": {
        "id": "LYGln9JZCAuO"
      },
      "execution_count": 2,
      "outputs": []
    },
    {
      "cell_type": "code",
      "source": [
        "# Function to check if the board is full\n",
        "def is_full(board):\n",
        "    return all(cell != \" \" for row in board for cell in row)"
      ],
      "metadata": {
        "id": "r2mEVYLwCDn_"
      },
      "execution_count": 3,
      "outputs": []
    },
    {
      "cell_type": "code",
      "source": [
        "# Main function to play the game\n",
        "def tic_tac_toe():\n",
        "    board = [[\" \" for _ in range(3)] for _ in range(3)]  # Initialize an empty board\n",
        "    current_player = \"X\"\n",
        "\n",
        "    print(\"Welcome to Tic-Tac-Toe!\")\n",
        "\n",
        "    while True:\n",
        "        print_board(board)  # Print the current board\n",
        "        print(f\"Player {current_player}'s turn.\")\n",
        "\n",
        "        # Get valid move from the current player\n",
        "        while True:\n",
        "            try:\n",
        "                move = int(input(f\"Enter the position (1-9) to place {current_player}: \"))\n",
        "                if move < 1 or move > 9:\n",
        "                    print(\"Invalid position! Please enter a number between 1 and 9.\")\n",
        "                    continue\n",
        "\n",
        "                row, col = divmod(move - 1, 3)\n",
        "\n",
        "                if board[row][col] == \" \":\n",
        "                    board[row][col] = current_player\n",
        "                    break\n",
        "                else:\n",
        "                    print(\"This spot is already taken! Choose another one.\")\n",
        "            except ValueError:\n",
        "                print(\"Invalid input! Please enter a number.\")\n",
        "\n",
        "        # Check for a winner\n",
        "        if check_winner(board, current_player):\n",
        "            print_board(board)\n",
        "            print(f\"Player {current_player} wins!\")\n",
        "            break\n",
        "\n",
        "        # Check for a tie\n",
        "        if is_full(board):\n",
        "            print_board(board)\n",
        "            print(\"It's a tie!\")\n",
        "            break\n",
        "\n",
        "        # Switch the player\n",
        "        current_player = \"O\" if current_player == \"X\" else \"X\"\n",
        "\n",
        "# Start the game\n",
        "tic_tac_toe()"
      ],
      "metadata": {
        "colab": {
          "base_uri": "https://localhost:8080/"
        },
        "id": "gl2UZ_plCF5X",
        "outputId": "f9db5571-91a1-4bac-9a89-b5a18cfbc9c0"
      },
      "execution_count": 5,
      "outputs": [
        {
          "output_type": "stream",
          "name": "stdout",
          "text": [
            "Welcome to Tic-Tac-Toe!\n",
            "  |   |  \n",
            "-----\n",
            "  |   |  \n",
            "-----\n",
            "  |   |  \n",
            "-----\n",
            "Player X's turn.\n",
            "Enter the position (1-9) to place X: 4\n",
            "  |   |  \n",
            "-----\n",
            "X |   |  \n",
            "-----\n",
            "  |   |  \n",
            "-----\n",
            "Player O's turn.\n",
            "Enter the position (1-9) to place O: 6\n",
            "  |   |  \n",
            "-----\n",
            "X |   | O\n",
            "-----\n",
            "  |   |  \n",
            "-----\n",
            "Player X's turn.\n",
            "Enter the position (1-9) to place X: 2\n",
            "  | X |  \n",
            "-----\n",
            "X |   | O\n",
            "-----\n",
            "  |   |  \n",
            "-----\n",
            "Player O's turn.\n",
            "Enter the position (1-9) to place O: 3\n",
            "  | X | O\n",
            "-----\n",
            "X |   | O\n",
            "-----\n",
            "  |   |  \n",
            "-----\n",
            "Player X's turn.\n",
            "Enter the position (1-9) to place X: 8\n",
            "  | X | O\n",
            "-----\n",
            "X |   | O\n",
            "-----\n",
            "  | X |  \n",
            "-----\n",
            "Player O's turn.\n",
            "Enter the position (1-9) to place O: 1\n",
            "O | X | O\n",
            "-----\n",
            "X |   | O\n",
            "-----\n",
            "  | X |  \n",
            "-----\n",
            "Player X's turn.\n",
            "Enter the position (1-9) to place X: 5\n",
            "O | X | O\n",
            "-----\n",
            "X | X | O\n",
            "-----\n",
            "  | X |  \n",
            "-----\n",
            "Player X wins!\n"
          ]
        }
      ]
    },
    {
      "cell_type": "code",
      "source": [],
      "metadata": {
        "id": "gksyQ1yTCIwW"
      },
      "execution_count": null,
      "outputs": []
    }
  ]
}