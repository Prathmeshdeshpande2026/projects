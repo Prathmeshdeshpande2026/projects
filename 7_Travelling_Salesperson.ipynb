{
  "nbformat": 4,
  "nbformat_minor": 0,
  "metadata": {
    "colab": {
      "provenance": []
    },
    "kernelspec": {
      "name": "python3",
      "display_name": "Python 3"
    },
    "language_info": {
      "name": "python"
    }
  },
  "cells": [
    {
      "cell_type": "code",
      "execution_count": 1,
      "metadata": {
        "id": "uqV98S6Y4L7T"
      },
      "outputs": [],
      "source": [
        "import sys"
      ]
    },
    {
      "cell_type": "code",
      "source": [
        "graph = [\n",
        "    [0, 29, 20, 21],\n",
        "    [29, 0, 15, 17],\n",
        "    [20, 15, 0, 28],\n",
        "    [21, 17, 28, 0]\n",
        "]"
      ],
      "metadata": {
        "id": "k7_0CTu75REH"
      },
      "execution_count": 2,
      "outputs": []
    },
    {
      "cell_type": "code",
      "source": [
        "n = len(graph)\n",
        "visited = [False] * n\n"
      ],
      "metadata": {
        "id": "lhb3SH4r5TxI"
      },
      "execution_count": 3,
      "outputs": []
    },
    {
      "cell_type": "code",
      "source": [
        "def tsp_heuristic(curr_pos, count, cost, path):\n",
        "    global min_cost, best_path\n",
        "\n",
        "    if count == n and graph[curr_pos][0] > 0:\n",
        "        total_cost = cost + graph[curr_pos][0]\n",
        "        if total_cost < min_cost:\n",
        "            min_cost = total_cost\n",
        "            best_path = path + [0]\n",
        "        return\n",
        "\n",
        "    for city in range(n):\n",
        "        if not visited[city] and graph[curr_pos][city] > 0:\n",
        "            visited[city] = True\n",
        "            tsp_heuristic(city, count + 1, cost + graph[curr_pos][city], path + [city])\n",
        "            visited[city] = False"
      ],
      "metadata": {
        "id": "W1jW4_Yk5XJf"
      },
      "execution_count": 4,
      "outputs": []
    },
    {
      "cell_type": "code",
      "source": [
        "min_cost = sys.maxsize\n",
        "best_path = []\n"
      ],
      "metadata": {
        "id": "XYN0_TFF5bkZ"
      },
      "execution_count": 5,
      "outputs": []
    },
    {
      "cell_type": "code",
      "source": [
        "visited[0] = True\n",
        "tsp_heuristic(0, 1, 0, [0])"
      ],
      "metadata": {
        "id": "d4EqJE7u5ehQ"
      },
      "execution_count": 6,
      "outputs": []
    },
    {
      "cell_type": "code",
      "source": [
        "print(\"Minimum Cost:\", min_cost)\n",
        "print(\"Best Path:\", ' -> '.join(map(str, best_path)))"
      ],
      "metadata": {
        "colab": {
          "base_uri": "https://localhost:8080/"
        },
        "id": "NLDqAyC65gnf",
        "outputId": "e72bab21-9253-48ae-aaf4-92bafcf00980"
      },
      "execution_count": 7,
      "outputs": [
        {
          "output_type": "stream",
          "name": "stdout",
          "text": [
            "Minimum Cost: 73\n",
            "Best Path: 0 -> 2 -> 1 -> 3 -> 0\n"
          ]
        }
      ]
    },
    {
      "cell_type": "code",
      "source": [],
      "metadata": {
        "id": "MxLSpfCy5i-A"
      },
      "execution_count": null,
      "outputs": []
    }
  ]
}