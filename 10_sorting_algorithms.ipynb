{
  "nbformat": 4,
  "nbformat_minor": 0,
  "metadata": {
    "colab": {
      "provenance": []
    },
    "kernelspec": {
      "name": "python3",
      "display_name": "Python 3"
    },
    "language_info": {
      "name": "python"
    }
  },
  "cells": [
    {
      "cell_type": "code",
      "execution_count": 1,
      "metadata": {
        "id": "Klp7H2u_7w33"
      },
      "outputs": [],
      "source": [
        "# Rule-Based Sorting using simple reasoning\n",
        "def rule_based_sort(arr):\n",
        "    n = len(arr)\n",
        "    rules_applied = 0\n",
        "\n",
        "    print(\"Initial array:\", arr)\n",
        "\n",
        "    for i in range(n):\n",
        "        for j in range(0, n - i - 1):\n",
        "            # Knowledge representation: compare two elements\n",
        "            a, b = arr[j], arr[j + 1]\n",
        "\n",
        "            # Reasoning: Apply rule\n",
        "            if a > b:\n",
        "                print(f\"Rule: IF {a} > {b} THEN swap them\")\n",
        "                arr[j], arr[j + 1] = arr[j + 1], arr[j]\n",
        "                rules_applied += 1\n",
        "            else:\n",
        "                print(f\"Rule: IF {a} <= {b} THEN do nothing\")\n",
        "\n",
        "    print(\"Final sorted array:\", arr)\n",
        "    print(f\"Total rules applied (swaps): {rules_applied}\")"
      ]
    },
    {
      "cell_type": "code",
      "source": [
        "# Sample input\n",
        "arr = [5, 2, 9, 1, 6]\n",
        "rule_based_sort(arr)"
      ],
      "metadata": {
        "colab": {
          "base_uri": "https://localhost:8080/"
        },
        "id": "aGSeTj8H8Bsp",
        "outputId": "8f7c1a07-849a-4e85-85de-d2243dd97c63"
      },
      "execution_count": 2,
      "outputs": [
        {
          "output_type": "stream",
          "name": "stdout",
          "text": [
            "Initial array: [5, 2, 9, 1, 6]\n",
            "Rule: IF 5 > 2 THEN swap them\n",
            "Rule: IF 5 <= 9 THEN do nothing\n",
            "Rule: IF 9 > 1 THEN swap them\n",
            "Rule: IF 9 > 6 THEN swap them\n",
            "Rule: IF 2 <= 5 THEN do nothing\n",
            "Rule: IF 5 > 1 THEN swap them\n",
            "Rule: IF 5 <= 6 THEN do nothing\n",
            "Rule: IF 2 > 1 THEN swap them\n",
            "Rule: IF 2 <= 5 THEN do nothing\n",
            "Rule: IF 1 <= 2 THEN do nothing\n",
            "Final sorted array: [1, 2, 5, 6, 9]\n",
            "Total rules applied (swaps): 5\n"
          ]
        }
      ]
    },
    {
      "cell_type": "code",
      "source": [],
      "metadata": {
        "id": "kS3Fu3YP8bOW"
      },
      "execution_count": null,
      "outputs": []
    }
  ]
}