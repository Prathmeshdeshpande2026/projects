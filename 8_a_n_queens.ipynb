{
  "nbformat": 4,
  "nbformat_minor": 0,
  "metadata": {
    "colab": {
      "provenance": []
    },
    "kernelspec": {
      "name": "python3",
      "display_name": "Python 3"
    },
    "language_info": {
      "name": "python"
    }
  },
  "cells": [
    {
      "cell_type": "code",
      "execution_count": 1,
      "metadata": {
        "id": "UogqUjgW5u0K"
      },
      "outputs": [],
      "source": [
        "import random"
      ]
    },
    {
      "cell_type": "code",
      "source": [
        "def print_board(state):\n",
        "    n = len(state)\n",
        "    for row in range(n):\n",
        "        line = \"\"\n",
        "        for col in range(n):\n",
        "            if state[col] == row:\n",
        "                line += \"Q \"\n",
        "            else:\n",
        "                line += \". \"\n",
        "        print(line)\n",
        "    print()"
      ],
      "metadata": {
        "id": "Cu3qLsmr6A1Y"
      },
      "execution_count": 2,
      "outputs": []
    },
    {
      "cell_type": "code",
      "source": [
        "def calculate_conflicts(state):\n",
        "    conflicts = 0\n",
        "    n = len(state)\n",
        "    for i in range(n):\n",
        "        for j in range(i + 1, n):\n",
        "            if state[i] == state[j] or abs(state[i] - state[j]) == abs(i - j):\n",
        "                conflicts += 1\n",
        "    return conflicts\n"
      ],
      "metadata": {
        "id": "QU9ulsFy6DZK"
      },
      "execution_count": 3,
      "outputs": []
    },
    {
      "cell_type": "code",
      "source": [
        "def get_neighbors(state):\n",
        "    neighbors = []\n",
        "    n = len(state)\n",
        "    for col in range(n):\n",
        "        for row in range(n):\n",
        "            if row != state[col]:\n",
        "                new_state = state.copy()\n",
        "                new_state[col] = row\n",
        "                neighbors.append(new_state)\n",
        "    return neighbors\n"
      ],
      "metadata": {
        "id": "X7V5oBy46GFS"
      },
      "execution_count": 4,
      "outputs": []
    },
    {
      "cell_type": "code",
      "source": [
        "def hill_climbing(n):\n",
        "    current_state = [random.randint(0, n - 1) for _ in range(n)]\n",
        "    current_conflicts = calculate_conflicts(current_state)\n",
        "\n",
        "    while True:\n",
        "        neighbors = get_neighbors(current_state)\n",
        "        neighbor_conflicts = [calculate_conflicts(state) for state in neighbors]\n",
        "        min_conflict = min(neighbor_conflicts)\n",
        "        if min_conflict >= current_conflicts:\n",
        "            break\n",
        "        index = neighbor_conflicts.index(min_conflict)\n",
        "        current_state = neighbors[index]\n",
        "        current_conflicts = min_conflict\n",
        "\n",
        "    return current_state, current_conflicts"
      ],
      "metadata": {
        "id": "EgKT3qL86IP2"
      },
      "execution_count": 5,
      "outputs": []
    },
    {
      "cell_type": "code",
      "source": [
        "n = 8\n",
        "solution, conflicts = hill_climbing(n)"
      ],
      "metadata": {
        "id": "EC0KgVwq6KhZ"
      },
      "execution_count": 6,
      "outputs": []
    },
    {
      "cell_type": "code",
      "source": [
        "print(\"Final Board:\")\n",
        "print_board(solution)\n",
        "print(\"Conflicts:\", conflicts)"
      ],
      "metadata": {
        "colab": {
          "base_uri": "https://localhost:8080/"
        },
        "id": "pIQETwOK6Qiz",
        "outputId": "277c0671-05e8-496e-8dd4-7c4eca1fb22e"
      },
      "execution_count": 7,
      "outputs": [
        {
          "output_type": "stream",
          "name": "stdout",
          "text": [
            "Final Board:\n",
            ". Q . . . . . . \n",
            ". . . . . Q . . \n",
            ". . Q . . . . . \n",
            "Q . . . . . . . \n",
            ". . . Q . . . . \n",
            ". . . . . . . Q \n",
            ". . . . Q . . . \n",
            ". . . . . . Q . \n",
            "\n",
            "Conflicts: 1\n"
          ]
        }
      ]
    },
    {
      "cell_type": "code",
      "source": [],
      "metadata": {
        "id": "cXxv-O_b6Ssg"
      },
      "execution_count": null,
      "outputs": []
    }
  ]
}