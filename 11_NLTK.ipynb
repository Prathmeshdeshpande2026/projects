{
  "nbformat": 4,
  "nbformat_minor": 0,
  "metadata": {
    "colab": {
      "provenance": []
    },
    "kernelspec": {
      "name": "python3",
      "display_name": "Python 3"
    },
    "language_info": {
      "name": "python"
    }
  },
  "cells": [
    {
      "cell_type": "code",
      "execution_count": 1,
      "metadata": {
        "id": "rW-XJSPWA3Gw"
      },
      "outputs": [],
      "source": [
        "import spacy\n",
        "from collections import Counter"
      ]
    },
    {
      "cell_type": "code",
      "source": [
        "nlp = spacy.load('en_core_web_sm')"
      ],
      "metadata": {
        "id": "zY9RBvuXA34J"
      },
      "execution_count": 2,
      "outputs": []
    },
    {
      "cell_type": "code",
      "source": [
        "text = \"Natural Language Processing helps computers understand human language. NLP is a part of Artificial Intelligence.\""
      ],
      "metadata": {
        "id": "p5OO2_i3BA-I"
      },
      "execution_count": 3,
      "outputs": []
    },
    {
      "cell_type": "code",
      "source": [
        "doc = nlp(text)\n",
        "tokens = [token.text for token in doc]\n",
        "print(\"\\n🔹 Tokenized Words:\")\n",
        "print(tokens)"
      ],
      "metadata": {
        "colab": {
          "base_uri": "https://localhost:8080/"
        },
        "id": "hsyQPqdtBDoe",
        "outputId": "0a442506-e210-4889-e698-b23fccd80f44"
      },
      "execution_count": 4,
      "outputs": [
        {
          "output_type": "stream",
          "name": "stdout",
          "text": [
            "\n",
            "🔹 Tokenized Words:\n",
            "['Natural', 'Language', 'Processing', 'helps', 'computers', 'understand', 'human', 'language', '.', 'NLP', 'is', 'a', 'part', 'of', 'Artificial', 'Intelligence', '.']\n"
          ]
        }
      ]
    },
    {
      "cell_type": "code",
      "source": [
        "# b. Word Frequency Count\n",
        "word_freq = Counter(tokens)\n",
        "print(\"\\n🔹 Word Frequency:\")\n",
        "for word, freq in word_freq.items():\n",
        "    print(f\"{word}: {freq}\")"
      ],
      "metadata": {
        "colab": {
          "base_uri": "https://localhost:8080/"
        },
        "id": "9oRUWBeDBG0L",
        "outputId": "8211a196-145b-43f7-9a8d-ba644ec4bae2"
      },
      "execution_count": 5,
      "outputs": [
        {
          "output_type": "stream",
          "name": "stdout",
          "text": [
            "\n",
            "🔹 Word Frequency:\n",
            "Natural: 1\n",
            "Language: 1\n",
            "Processing: 1\n",
            "helps: 1\n",
            "computers: 1\n",
            "understand: 1\n",
            "human: 1\n",
            "language: 1\n",
            ".: 2\n",
            "NLP: 1\n",
            "is: 1\n",
            "a: 1\n",
            "part: 1\n",
            "of: 1\n",
            "Artificial: 1\n",
            "Intelligence: 1\n"
          ]
        }
      ]
    },
    {
      "cell_type": "code",
      "source": [
        "# c. Remove Stop Words\n",
        "filtered_tokens = [token.text for token in doc if not token.is_stop and token.is_alpha]\n",
        "print(\"\\n🔹 After Removing Stop Words:\")\n",
        "print(filtered_tokens)"
      ],
      "metadata": {
        "colab": {
          "base_uri": "https://localhost:8080/"
        },
        "id": "bD3K7S8hBJwj",
        "outputId": "c85e0920-4fe6-46af-ec3a-ec8f5f29baf8"
      },
      "execution_count": 6,
      "outputs": [
        {
          "output_type": "stream",
          "name": "stdout",
          "text": [
            "\n",
            "🔹 After Removing Stop Words:\n",
            "['Natural', 'Language', 'Processing', 'helps', 'computers', 'understand', 'human', 'language', 'NLP', 'Artificial', 'Intelligence']\n"
          ]
        }
      ]
    },
    {
      "cell_type": "code",
      "source": [
        "# d. POS Tagging\n",
        "print(\"\\n🔹 Part-of-Speech Tagging:\")\n",
        "for token in doc:\n",
        "    print(f\"{token.text}: {token.pos_}\")"
      ],
      "metadata": {
        "colab": {
          "base_uri": "https://localhost:8080/"
        },
        "id": "JhWkGvOlBMEo",
        "outputId": "6933da93-0953-4cb3-a06d-bad420b7afbf"
      },
      "execution_count": 7,
      "outputs": [
        {
          "output_type": "stream",
          "name": "stdout",
          "text": [
            "\n",
            "🔹 Part-of-Speech Tagging:\n",
            "Natural: PROPN\n",
            "Language: PROPN\n",
            "Processing: NOUN\n",
            "helps: VERB\n",
            "computers: NOUN\n",
            "understand: VERB\n",
            "human: ADJ\n",
            "language: NOUN\n",
            ".: PUNCT\n",
            "NLP: PROPN\n",
            "is: AUX\n",
            "a: DET\n",
            "part: NOUN\n",
            "of: ADP\n",
            "Artificial: PROPN\n",
            "Intelligence: PROPN\n",
            ".: PUNCT\n"
          ]
        }
      ]
    },
    {
      "cell_type": "code",
      "source": [],
      "metadata": {
        "id": "5s2RGWcsBN4P"
      },
      "execution_count": null,
      "outputs": []
    }
  ]
}